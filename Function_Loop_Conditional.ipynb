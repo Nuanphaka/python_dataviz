{
 "cells": [
  {
   "cell_type": "markdown",
   "metadata": {},
   "source": [
    "# Function\n",
    "### print ชื่อ xxx นาวสกุล yyy รหัส zzz\n",
    "### print เกรด วิชา stat1 >>AAA"
   ]
  },
  {
   "cell_type": "code",
   "execution_count": 76,
   "metadata": {},
   "outputs": [
    {
     "name": "stdout",
     "output_type": "stream",
     "text": [
      "ชื่อ นวลผกา นามสกุล พิมพ์พัฒน์ รหัส 603021109-7\n"
     ]
    }
   ],
   "source": [
    "a = 'ชื่อ นวลผกา นามสกุล พิมพ์พัฒน์ รหัส 603021109-7'\n",
    "print(a)"
   ]
  },
  {
   "cell_type": "code",
   "execution_count": 77,
   "metadata": {},
   "outputs": [
    {
     "name": "stdout",
     "output_type": "stream",
     "text": [
      "ชื่อ นวลผกา นามสกุล พิมพ์พัฒน์ รหัส 603021109-7\n"
     ]
    }
   ],
   "source": [
    "name = 'นวลผกา'\n",
    "surname = 'พิมพ์พัฒน์'\n",
    "ID = '603021109-7'\n",
    "\n",
    "b = f'ชื่อ {name} นามสกุล {surname} รหัส {ID}'\n",
    "print(b)"
   ]
  },
  {
   "cell_type": "markdown",
   "metadata": {},
   "source": [
    "## function\n",
    "~~~python\n",
    "def function_name(input):\n",
    "    do_something\n",
    "    return output\n",
    "~~~"
   ]
  },
  {
   "cell_type": "code",
   "execution_count": 78,
   "metadata": {},
   "outputs": [],
   "source": [
    "def print_line1(name1,surname1,ID1):\n",
    "    st = f'ชื่อ {name} นามสกุล {surname} รหัส {ID1}'\n",
    "    return st"
   ]
  },
  {
   "cell_type": "code",
   "execution_count": 79,
   "metadata": {},
   "outputs": [
    {
     "name": "stdout",
     "output_type": "stream",
     "text": [
      "ชื่อ นวลผกา นามสกุล พิมพ์พัฒน์ รหัส 603021109-7\n"
     ]
    }
   ],
   "source": [
    "print(print_line1('นวลผกา','พิมพ์พัฒน์','603021109-7'))"
   ]
  },
  {
   "cell_type": "markdown",
   "metadata": {},
   "source": [
    "# Function without output"
   ]
  },
  {
   "cell_type": "code",
   "execution_count": 84,
   "metadata": {},
   "outputs": [],
   "source": [
    "def print_2lines(name1,surname1,ID1,grade):\n",
    "    st = f'ชื่อ {name1} นามสกุล {surname1} รหัส {ID1}'\n",
    "    print(st)\n",
    "    st2 = f'เกรดวิชา stat1 >>> {grade}'\n",
    "    print(st2)"
   ]
  },
  {
   "cell_type": "code",
   "execution_count": 85,
   "metadata": {},
   "outputs": [
    {
     "name": "stdout",
     "output_type": "stream",
     "text": [
      "ชื่อ นวลผกา นามสกุล พิมพ์พัฒน์ รหัส 603021109-7\n",
      "เกรดวิชา stat1 >>> A\n",
      "ชื่อ ปนิดา นามสกุล ท่าประโคน รหัส 6030275-7\n",
      "เกรดวิชา stat1 >>> A\n",
      "ชื่อ รสสุคณธ์ นามสกุล เอกไชย รหัส 603021315-4\n",
      "เกรดวิชา stat1 >>> A\n",
      "ชื่อ สุชาวดี นามสกุล อัฉริยวงศ์เมธี รหัส 603021888-7\n",
      "เกรดวิชา stat1 >>> A\n"
     ]
    }
   ],
   "source": [
    "print_2lines('นวลผกา','พิมพ์พัฒน์','603021109-7','A')\n",
    "print_2lines('ปนิดา','ท่าประโคน','6030275-7','A')\n",
    "print_2lines('รสสุคณธ์','เอกไชย','603021315-4','A')\n",
    "print_2lines('สุชาวดี','อัฉริยวงศ์เมธี','603021888-7','A')"
   ]
  },
  {
   "cell_type": "markdown",
   "metadata": {},
   "source": [
    "# function without output "
   ]
  },
  {
   "cell_type": "code",
   "execution_count": 42,
   "metadata": {},
   "outputs": [],
   "source": [
    "def two_x_three():\n",
    "    x = 2*3\n",
    "    return x"
   ]
  },
  {
   "cell_type": "code",
   "execution_count": 43,
   "metadata": {},
   "outputs": [
    {
     "data": {
      "text/plain": [
       "6"
      ]
     },
     "execution_count": 43,
     "metadata": {},
     "output_type": "execute_result"
    }
   ],
   "source": [
    "two_x_three()"
   ]
  },
  {
   "cell_type": "code",
   "execution_count": 51,
   "metadata": {},
   "outputs": [],
   "source": [
    "def print_2lines_default(name1,surname1,ID1,grade ='f'):\n",
    "    st = f'ชื่อ {name} นามสกุล {surname} รหัส {ID1}'\n",
    "    print(st)\n",
    "    st2 = f'เกรดวิชา stat1 >>> {grade}'\n",
    "    print(st2)"
   ]
  },
  {
   "cell_type": "code",
   "execution_count": 52,
   "metadata": {},
   "outputs": [
    {
     "name": "stdout",
     "output_type": "stream",
     "text": [
      "ชื่อ นวลผกา นามสกุล พิมพ์พัฒน์ รหัส 603021109-7\n",
      "เกรดวิชา stat1 >>> f\n"
     ]
    }
   ],
   "source": [
    "print_2lines_default('นวลผกา','พิมพ์พัฒน์','603021109-7')"
   ]
  },
  {
   "cell_type": "code",
   "execution_count": 58,
   "metadata": {},
   "outputs": [
    {
     "name": "stdout",
     "output_type": "stream",
     "text": [
      "ชื่อ นวลผกา นามสกุล พิมพ์พัฒน์ รหัส 603021109-7\n",
      "เกรดวิชา stat1 >>> A+\n"
     ]
    }
   ],
   "source": [
    "print_2lines_default('นวลผกา','พิมพ์พัฒน์','603021109-7','A+')"
   ]
  },
  {
   "cell_type": "code",
   "execution_count": 59,
   "metadata": {},
   "outputs": [
    {
     "name": "stdout",
     "output_type": "stream",
     "text": [
      "ชื่อ นวลผกา นามสกุล พิมพ์พัฒน์ รหัส 603021109-7\n",
      "เกรดวิชา stat1 >>> f\n"
     ]
    }
   ],
   "source": [
    "print_2lines_default(name1 = 'นวลผกา',surname1 = 'พิมพ์พัฒน์',ID1 = '603021109-7')"
   ]
  },
  {
   "cell_type": "markdown",
   "metadata": {},
   "source": [
    "# Loop(วนซ้ำ)\n",
    "~~~python\n",
    "for each_member in listA:\n",
    "    do_something\n",
    "~~~\n"
   ]
  },
  {
   "cell_type": "code",
   "execution_count": 60,
   "metadata": {},
   "outputs": [
    {
     "name": "stdout",
     "output_type": "stream",
     "text": [
      "1\n",
      "2\n",
      "3\n"
     ]
    }
   ],
   "source": [
    "for i in [1,2,3]:\n",
    "    print(i)"
   ]
  },
  {
   "cell_type": "code",
   "execution_count": 65,
   "metadata": {},
   "outputs": [
    {
     "name": "stdout",
     "output_type": "stream",
     "text": [
      "T-> /\n",
      " \n",
      "h-> /\n",
      " \n",
      "a-> /\n",
      " \n",
      "n-> /\n",
      " \n",
      "a-> /\n",
      " \n",
      "p-> /\n",
      " \n",
      "o-> /\n",
      " \n",
      "n-> /\n",
      " \n",
      "g-> /\n",
      " \n"
     ]
    }
   ],
   "source": [
    "for i in 'Thanapong':\n",
    "    print(f'{i}-> /')\n",
    "    print(' ')"
   ]
  },
  {
   "cell_type": "markdown",
   "metadata": {},
   "source": [
    "# 1. สร้าง list ชื่อเพื่อนที่อยู่ในแถวยาวเดียวกัน\n",
    "# 2. วนลูป print ประโยคว่า เล็ก รัก เพื่อนๆนะคะ"
   ]
  },
  {
   "cell_type": "code",
   "execution_count": 102,
   "metadata": {},
   "outputs": [],
   "source": [
    "def print_2lines(name3,):\n",
    "    st = f'ชื่อ {name3}'\n",
    "    print(st)"
   ]
  },
  {
   "cell_type": "code",
   "execution_count": 103,
   "metadata": {},
   "outputs": [
    {
     "name": "stdout",
     "output_type": "stream",
     "text": [
      "ชื่อ เขียว\n",
      "ชื่อ ฟาง\n",
      "ชื่อ ปิง\n"
     ]
    }
   ],
   "source": [
    "print_2lines('เขียว')\n",
    "print_2lines('ฟาง')\n",
    "print_2lines('ปิง')"
   ]
  },
  {
   "cell_type": "code",
   "execution_count": 104,
   "metadata": {},
   "outputs": [],
   "source": [
    "def print_2lines(name3,ความรู้สึก,Friends):\n",
    "    st = f'{name3} {ความรู้สึก} {Friends}'\n",
    "    print(st)"
   ]
  },
  {
   "cell_type": "code",
   "execution_count": 105,
   "metadata": {},
   "outputs": [
    {
     "name": "stdout",
     "output_type": "stream",
     "text": [
      "เล็ก รัก เขียว\n",
      "เล็ก รัก ฟาง\n",
      "เล็ก รัก ปิง\n"
     ]
    }
   ],
   "source": [
    "print_2lines('เล็ก','รัก','เขียว')\n",
    "print_2lines('เล็ก','รัก','ฟาง')\n",
    "print_2lines('เล็ก','รัก','ปิง')"
   ]
  },
  {
   "cell_type": "code",
   "execution_count": 111,
   "metadata": {},
   "outputs": [],
   "source": [
    "friend_list = ['เขียว','ฟาง','ปิง']"
   ]
  },
  {
   "cell_type": "code",
   "execution_count": 143,
   "metadata": {},
   "outputs": [],
   "source": [
    "def print_feeling(I,feeling,friend):\n",
    "    print(f'{I} {feeling} {friend}')"
   ]
  },
  {
   "cell_type": "code",
   "execution_count": 113,
   "metadata": {},
   "outputs": [
    {
     "name": "stdout",
     "output_type": "stream",
     "text": [
      "เล็ก รัก เขียว\n"
     ]
    }
   ],
   "source": [
    "print_feeling('เล็ก','รัก','เขียว')"
   ]
  },
  {
   "cell_type": "code",
   "execution_count": 114,
   "metadata": {},
   "outputs": [
    {
     "name": "stdout",
     "output_type": "stream",
     "text": [
      "เล็ก รัก เขียว\n",
      "เล็ก รัก ฟาง\n",
      "เล็ก รัก ปิง\n"
     ]
    }
   ],
   "source": [
    "for x in friend_list:\n",
    "    print_feeling('เล็ก','รัก',x)"
   ]
  },
  {
   "cell_type": "markdown",
   "metadata": {},
   "source": [
    "# loop in function"
   ]
  },
  {
   "cell_type": "code",
   "execution_count": 136,
   "metadata": {},
   "outputs": [],
   "source": [
    "def print_feelings(I,feeling,friend):\n",
    "    for x in friend:\n",
    "        print(f'{I} {feeling} {x}')"
   ]
  },
  {
   "cell_type": "code",
   "execution_count": 137,
   "metadata": {},
   "outputs": [
    {
     "name": "stdout",
     "output_type": "stream",
     "text": [
      "เล็ก รัก เขียว\n",
      "เล็ก รัก ฟาง\n",
      "เล็ก รัก ปิง\n"
     ]
    }
   ],
   "source": [
    "print_feeling('เล็ก','รัก',friend_list)"
   ]
  },
  {
   "cell_type": "markdown",
   "metadata": {},
   "source": [
    "# looping i dist"
   ]
  },
  {
   "cell_type": "code",
   "execution_count": 138,
   "metadata": {},
   "outputs": [
    {
     "data": {
      "text/plain": [
       "{'พันทิพา': 'A', 'ศุภนิตา': 'c', 'ปนัดดา': 'A', 'ทรงกลด': 'f'}"
      ]
     },
     "execution_count": 138,
     "metadata": {},
     "output_type": "execute_result"
    }
   ],
   "source": [
    "name_grade = {'พันทิพา':'A','ศุภนิตา':'c','ปนัดดา':'A','ทรงกลด':'f'}\n",
    "name_grade "
   ]
  },
  {
   "cell_type": "code",
   "execution_count": 139,
   "metadata": {},
   "outputs": [
    {
     "data": {
      "text/plain": [
       "'A'"
      ]
     },
     "execution_count": 139,
     "metadata": {},
     "output_type": "execute_result"
    }
   ],
   "source": [
    "name_grade['ปนัดดา']"
   ]
  },
  {
   "cell_type": "code",
   "execution_count": 140,
   "metadata": {},
   "outputs": [
    {
     "data": {
      "text/plain": [
       "dict_keys(['พันทิพา', 'ศุภนิตา', 'ปนัดดา', 'ทรงกลด'])"
      ]
     },
     "execution_count": 140,
     "metadata": {},
     "output_type": "execute_result"
    }
   ],
   "source": [
    "name_grade.keys()"
   ]
  },
  {
   "cell_type": "code",
   "execution_count": 141,
   "metadata": {},
   "outputs": [
    {
     "name": "stdout",
     "output_type": "stream",
     "text": [
      "พันทิพา ได้เกรด A\n",
      "ศุภนิตา ได้เกรด c\n",
      "ปนัดดา ได้เกรด A\n",
      "ทรงกลด ได้เกรด f\n"
     ]
    }
   ],
   "source": [
    "for i in name_grade.keys():\n",
    "    print(f'{i} ได้เกรด {name_grade[i]}')"
   ]
  },
  {
   "cell_type": "markdown",
   "metadata": {},
   "source": [
    "# loop in loop"
   ]
  },
  {
   "cell_type": "code",
   "execution_count": 149,
   "metadata": {},
   "outputs": [
    {
     "name": "stdout",
     "output_type": "stream",
     "text": [
      "เขียว รัก เขียว\n",
      "เขียว รัก ฟาง\n",
      "เขียว รัก ปิง\n",
      "ฟาง รัก เขียว\n",
      "ฟาง รัก ฟาง\n",
      "ฟาง รัก ปิง\n",
      "ปิง รัก เขียว\n",
      "ปิง รัก ฟาง\n",
      "ปิง รัก ปิง\n"
     ]
    }
   ],
   "source": [
    "for name1 in friend_list:\n",
    "    for name2 in friend_list:\n",
    "        print_feeling(name1,'รัก',name2)"
   ]
  },
  {
   "cell_type": "markdown",
   "metadata": {},
   "source": [
    "# conditional เงื่อนไข"
   ]
  },
  {
   "cell_type": "code",
   "execution_count": null,
   "metadata": {},
   "outputs": [],
   "source": [
    "# == เช็คว่าข้างหน้าและข้างหลังเท่ากันหรือเปล่า เท่ากันคือ true\n",
    "# != ไม่เท่ากับ\n",
    "# >= ตัวข้างหน้ามากกว่าตัวข้างหลังหรือเปล่า\n",
    "# <= ตัวข้างหน้าน้อยกว่ากันหรือเปล่า\n",
    "# <  \n",
    "# >"
   ]
  },
  {
   "cell_type": "markdown",
   "metadata": {},
   "source": [
    "~~~python\n",
    "if conditional1:\n",
    "    do something\n",
    "elif conditional2:\n",
    "    do anather thing\n",
    "elif:\n",
    "    do ...\n",
    "~~~"
   ]
  },
  {
   "cell_type": "code",
   "execution_count": 153,
   "metadata": {},
   "outputs": [
    {
     "name": "stdout",
     "output_type": "stream",
     "text": [
      "เขียว รัก ฟาง\n",
      "เขียว รัก ปิง\n",
      "ฟาง รัก เขียว\n",
      "ฟาง รัก ปิง\n",
      "ปิง รัก เขียว\n",
      "ปิง รัก ฟาง\n"
     ]
    }
   ],
   "source": [
    "for name1 in friend_list:\n",
    "    for name2 in friend_list:\n",
    "        if name1 != name2:\n",
    "            print_feeling(name1,'รัก',name2)"
   ]
  },
  {
   "cell_type": "code",
   "execution_count": 154,
   "metadata": {},
   "outputs": [
    {
     "name": "stdout",
     "output_type": "stream",
     "text": [
      "yes\n"
     ]
    }
   ],
   "source": [
    "if True:\n",
    "    print('yes')"
   ]
  },
  {
   "cell_type": "code",
   "execution_count": 157,
   "metadata": {},
   "outputs": [],
   "source": [
    "if False:\n",
    "    print('no')"
   ]
  },
  {
   "cell_type": "code",
   "execution_count": 159,
   "metadata": {},
   "outputs": [
    {
     "name": "stdout",
     "output_type": "stream",
     "text": [
      "no\n"
     ]
    }
   ],
   "source": [
    "if False:\n",
    "    print('yes')\n",
    "else:\n",
    "    print('no')"
   ]
  },
  {
   "cell_type": "code",
   "execution_count": 161,
   "metadata": {},
   "outputs": [
    {
     "data": {
      "text/plain": [
       "True"
      ]
     },
     "execution_count": 161,
     "metadata": {},
     "output_type": "execute_result"
    }
   ],
   "source": [
    "1==1"
   ]
  },
  {
   "cell_type": "code",
   "execution_count": 165,
   "metadata": {},
   "outputs": [
    {
     "name": "stdout",
     "output_type": "stream",
     "text": [
      "1=1\n"
     ]
    }
   ],
   "source": [
    "if 1==1:\n",
    "    print('1=1')"
   ]
  },
  {
   "cell_type": "markdown",
   "metadata": {},
   "source": [
    "# HW\n",
    "เขียน function ตัดเกรด โดยที่ input เป็น คะแนน(0-100) output เป็นเกรด(F-A)\n",
    "\n",
    "input = [1,50,65,90,101,-5,49]"
   ]
  },
  {
   "cell_type": "code",
   "execution_count": 1,
   "metadata": {},
   "outputs": [],
   "source": [
    "N = [1,50,65,90,101,-5,49]"
   ]
  },
  {
   "cell_type": "code",
   "execution_count": 2,
   "metadata": {},
   "outputs": [
    {
     "name": "stdout",
     "output_type": "stream",
     "text": [
      "F\n",
      "D\n",
      "C+\n",
      "A\n",
      "A\n",
      "F\n",
      "F\n"
     ]
    }
   ],
   "source": [
    "for i in N:\n",
    "    if i >79:\n",
    "        print('A')\n",
    "    elif i >74:\n",
    "         print('B+')\n",
    "    elif i >69:\n",
    "         print('B')\n",
    "    elif i >64:\n",
    "         print('C+')\n",
    "    elif i >59:\n",
    "         print('C')\n",
    "    elif i >54:\n",
    "         print('D+')\n",
    "    elif i >49:\n",
    "         print('D')\n",
    "    else:\n",
    "         print('F')"
   ]
  },
  {
   "cell_type": "code",
   "execution_count": null,
   "metadata": {},
   "outputs": [],
   "source": []
  },
  {
   "cell_type": "code",
   "execution_count": null,
   "metadata": {},
   "outputs": [],
   "source": []
  }
 ],
 "metadata": {
  "kernelspec": {
   "display_name": "Python 3",
   "language": "python",
   "name": "python3"
  },
  "language_info": {
   "codemirror_mode": {
    "name": "ipython",
    "version": 3
   },
   "file_extension": ".py",
   "mimetype": "text/x-python",
   "name": "python",
   "nbconvert_exporter": "python",
   "pygments_lexer": "ipython3",
   "version": "3.7.4"
  }
 },
 "nbformat": 4,
 "nbformat_minor": 2
}
